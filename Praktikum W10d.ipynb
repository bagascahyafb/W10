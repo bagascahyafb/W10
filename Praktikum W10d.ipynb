{
 "cells": [
  {
   "cell_type": "markdown",
   "metadata": {},
   "source": [
    "# Assignment For This Week\n",
    "Develop program menggunakan algoritma k-means clustring untuk data 20newsgroups 3 kelas: Sport, Religion dan Technology. Sumber materi dapat diakses di https://tita.lecturer.pens.ac.id/TextMining_SDT/M10.%20Text%20Clustering/Text%20Clustering%20with%20TF-IDF%20in%20Python.pdf\n",
    "\n",
    "Dengan ketentuan:\n",
    "\n",
    "#### A. Data dalam bentuk Bag of Words\n",
    "1. menggunakan rumus jarak Euclidean Distance\n",
    "2. menggunakan rumus jarak Cosine Similarity\n",
    "\n",
    "### B. Data dalam bentuk TF/IDF\n",
    "1. menggunakan rumus jarak Euclidean Distance\n",
    "2. menggunakan rumus jarak Cosine Similarity\n",
    "\n",
    "### C. Data dalam bentuk Count Vectorizer\n",
    "1. menggunakan rumus jarak Euclidean Distance\n",
    "2. menggunakan rumus jarak Cosine Similarity\n",
    "\n",
    "#### D. Data dalam bentuk Vocabulary menggunakan rumus jarak Jaccard Index\n",
    "\n",
    "Buat analisa hasil klaster menggunakan metric performance DBI dan Silhoute score. \n",
    "Sajikan dalma bentuk presentasi. Unggah file ppt nya."
   ]
  },
  {
   "cell_type": "markdown",
   "metadata": {},
   "source": [
    "# Library"
   ]
  },
  {
   "cell_type": "code",
   "execution_count": 1,
   "metadata": {},
   "outputs": [],
   "source": [
    "# import the dataset from sklearn\n",
    "from sklearn.datasets import fetch_20newsgroups\n",
    "from sklearn.feature_extraction.text import CountVectorizer\n",
    "from sklearn.feature_extraction.text import TfidfVectorizer\n",
    "from sklearn.cluster import KMeans\n",
    "from sklearn.decomposition import PCA\n",
    "from sklearn import metrics\n",
    "\n",
    "# import other required libs\n",
    "import pandas as pd\n",
    "import numpy as np\n",
    "\n",
    "# string manipulation libs\n",
    "import re\n",
    "import string\n",
    "import nltk\n",
    "from nltk.corpus import stopwords\n",
    "\n",
    "# viz libs\n",
    "import matplotlib.pyplot as plt\n",
    "import seaborn as sns"
   ]
  },
  {
   "cell_type": "markdown",
   "metadata": {},
   "source": [
    "# Dataset"
   ]
  },
  {
   "cell_type": "code",
   "execution_count": 2,
   "metadata": {},
   "outputs": [
    {
     "name": "stdout",
     "output_type": "stream",
     "text": [
      "alt.atheism\n",
      "comp.graphics\n",
      "comp.os.ms-windows.misc\n",
      "comp.sys.ibm.pc.hardware\n",
      "comp.sys.mac.hardware\n",
      "comp.windows.x\n",
      "misc.forsale\n",
      "rec.autos\n",
      "rec.motorcycles\n",
      "rec.sport.baseball\n",
      "rec.sport.hockey\n",
      "sci.crypt\n",
      "sci.electronics\n",
      "sci.med\n",
      "sci.space\n",
      "soc.religion.christian\n",
      "talk.politics.guns\n",
      "talk.politics.mideast\n",
      "talk.politics.misc\n",
      "talk.religion.misc\n"
     ]
    }
   ],
   "source": [
    "for i in fetch_20newsgroups().target_names:\n",
    "    print(i)"
   ]
  },
  {
   "cell_type": "code",
   "execution_count": 3,
   "metadata": {},
   "outputs": [
    {
     "data": {
      "text/html": [
       "<div>\n",
       "<style scoped>\n",
       "    .dataframe tbody tr th:only-of-type {\n",
       "        vertical-align: middle;\n",
       "    }\n",
       "\n",
       "    .dataframe tbody tr th {\n",
       "        vertical-align: top;\n",
       "    }\n",
       "\n",
       "    .dataframe thead th {\n",
       "        text-align: right;\n",
       "    }\n",
       "</style>\n",
       "<table border=\"1\" class=\"dataframe\">\n",
       "  <thead>\n",
       "    <tr style=\"text-align: right;\">\n",
       "      <th></th>\n",
       "      <th>corpus</th>\n",
       "    </tr>\n",
       "  </thead>\n",
       "  <tbody>\n",
       "    <tr>\n",
       "      <th>0</th>\n",
       "      <td>\\nThey tried their best not to show it, believ...</td>\n",
       "    </tr>\n",
       "    <tr>\n",
       "      <th>1</th>\n",
       "      <td>\\nStankiewicz?  I doubt it.\\n\\nKoufax was one ...</td>\n",
       "    </tr>\n",
       "    <tr>\n",
       "      <th>2</th>\n",
       "      <td>\\n[deletia- and so on]\\n\\nI seem to have been ...</td>\n",
       "    </tr>\n",
       "    <tr>\n",
       "      <th>3</th>\n",
       "      <td>Excuse the sheer newbieness of this post, but ...</td>\n",
       "    </tr>\n",
       "    <tr>\n",
       "      <th>4</th>\n",
       "      <td>==============================================...</td>\n",
       "    </tr>\n",
       "    <tr>\n",
       "      <th>...</th>\n",
       "      <td>...</td>\n",
       "    </tr>\n",
       "    <tr>\n",
       "      <th>3446</th>\n",
       "      <td>\\n  Or, with no dictionary available, they cou...</td>\n",
       "    </tr>\n",
       "    <tr>\n",
       "      <th>3447</th>\n",
       "      <td>\\n\\nSorry to disappoint you but the Red Wings ...</td>\n",
       "    </tr>\n",
       "    <tr>\n",
       "      <th>3448</th>\n",
       "      <td>\\n: Can anyone tell me where to find a MPEG vi...</td>\n",
       "    </tr>\n",
       "    <tr>\n",
       "      <th>3449</th>\n",
       "      <td>\\n</td>\n",
       "    </tr>\n",
       "    <tr>\n",
       "      <th>3450</th>\n",
       "      <td>\\nHey Valentine, I don't see Boston with any w...</td>\n",
       "    </tr>\n",
       "  </tbody>\n",
       "</table>\n",
       "<p>3451 rows × 1 columns</p>\n",
       "</div>"
      ],
      "text/plain": [
       "                                                 corpus\n",
       "0     \\nThey tried their best not to show it, believ...\n",
       "1     \\nStankiewicz?  I doubt it.\\n\\nKoufax was one ...\n",
       "2     \\n[deletia- and so on]\\n\\nI seem to have been ...\n",
       "3     Excuse the sheer newbieness of this post, but ...\n",
       "4     ==============================================...\n",
       "...                                                 ...\n",
       "3446  \\n  Or, with no dictionary available, they cou...\n",
       "3447  \\n\\nSorry to disappoint you but the Red Wings ...\n",
       "3448  \\n: Can anyone tell me where to find a MPEG vi...\n",
       "3449                                                 \\n\n",
       "3450  \\nHey Valentine, I don't see Boston with any w...\n",
       "\n",
       "[3451 rows x 1 columns]"
      ]
     },
     "execution_count": 3,
     "metadata": {},
     "output_type": "execute_result"
    }
   ],
   "source": [
    "categories = [\n",
    " 'comp.graphics',\n",
    " 'comp.os.ms-windows.misc',\n",
    " 'rec.sport.hockey',\n",
    " 'rec.sport.baseball',\n",
    " 'alt.atheism',\n",
    " 'soc.religion.christian'\n",
    "]\n",
    "dataset = fetch_20newsgroups(subset='train', categories=categories, shuffle=True, remove=('headers', 'footers', 'quotes'))\n",
    "df = pd.DataFrame(dataset.data, columns=[\"corpus\"])\n",
    "df"
   ]
  },
  {
   "cell_type": "code",
   "execution_count": 4,
   "metadata": {},
   "outputs": [],
   "source": [
    "def preprocess_text(text: str, remove_stopwords: bool) -> str:\n",
    "    # remove links\n",
    "    text = re.sub(r\"http\\S+\", \"\", text)\n",
    "    # remove special chars and numbers\n",
    "    text = re.sub(\"[^A-Za-z]+\", \" \", text)\n",
    "    # remove stopwords\n",
    "    if remove_stopwords:\n",
    "        # 1. tokenize\n",
    "        tokens = nltk.word_tokenize(text)\n",
    "        # 2. check if stopword\n",
    "        tokens = [w for w in tokens if not w.lower() in stopwords.words(\"english\")]\n",
    "        # 3. join back together\n",
    "        text = \" \".join(tokens)\n",
    "    # return text in lower case and stripped of whitespaces\n",
    "    text = text.lower().strip()\n",
    "    return text"
   ]
  },
  {
   "cell_type": "code",
   "execution_count": 5,
   "metadata": {},
   "outputs": [
    {
     "data": {
      "text/html": [
       "<div>\n",
       "<style scoped>\n",
       "    .dataframe tbody tr th:only-of-type {\n",
       "        vertical-align: middle;\n",
       "    }\n",
       "\n",
       "    .dataframe tbody tr th {\n",
       "        vertical-align: top;\n",
       "    }\n",
       "\n",
       "    .dataframe thead th {\n",
       "        text-align: right;\n",
       "    }\n",
       "</style>\n",
       "<table border=\"1\" class=\"dataframe\">\n",
       "  <thead>\n",
       "    <tr style=\"text-align: right;\">\n",
       "      <th></th>\n",
       "      <th>corpus</th>\n",
       "      <th>cleaned</th>\n",
       "    </tr>\n",
       "  </thead>\n",
       "  <tbody>\n",
       "    <tr>\n",
       "      <th>3446</th>\n",
       "      <td>\\n  Or, with no dictionary available, they cou...</td>\n",
       "      <td>dictionary available could gain first hand kno...</td>\n",
       "    </tr>\n",
       "    <tr>\n",
       "      <th>3447</th>\n",
       "      <td>\\n\\nSorry to disappoint you but the Red Wings ...</td>\n",
       "      <td>sorry disappoint red wings earned victory easi...</td>\n",
       "    </tr>\n",
       "    <tr>\n",
       "      <th>3448</th>\n",
       "      <td>\\n: Can anyone tell me where to find a MPEG vi...</td>\n",
       "      <td>anyone tell find mpeg viewer either dos window...</td>\n",
       "    </tr>\n",
       "    <tr>\n",
       "      <th>3449</th>\n",
       "      <td>\\n</td>\n",
       "      <td></td>\n",
       "    </tr>\n",
       "    <tr>\n",
       "      <th>3450</th>\n",
       "      <td>\\nHey Valentine, I don't see Boston with any w...</td>\n",
       "      <td>hey valentine see boston world series rings fi...</td>\n",
       "    </tr>\n",
       "  </tbody>\n",
       "</table>\n",
       "</div>"
      ],
      "text/plain": [
       "                                                 corpus  \\\n",
       "3446  \\n  Or, with no dictionary available, they cou...   \n",
       "3447  \\n\\nSorry to disappoint you but the Red Wings ...   \n",
       "3448  \\n: Can anyone tell me where to find a MPEG vi...   \n",
       "3449                                                 \\n   \n",
       "3450  \\nHey Valentine, I don't see Boston with any w...   \n",
       "\n",
       "                                                cleaned  \n",
       "3446  dictionary available could gain first hand kno...  \n",
       "3447  sorry disappoint red wings earned victory easi...  \n",
       "3448  anyone tell find mpeg viewer either dos window...  \n",
       "3449                                                     \n",
       "3450  hey valentine see boston world series rings fi...  "
      ]
     },
     "execution_count": 5,
     "metadata": {},
     "output_type": "execute_result"
    }
   ],
   "source": [
    "df['cleaned'] = df['corpus'].apply(lambda x: preprocess_text(x, remove_stopwords=True))\n",
    "df.tail(5)"
   ]
  },
  {
   "cell_type": "markdown",
   "metadata": {},
   "source": [
    "# A. Bag Of Words"
   ]
  },
  {
   "cell_type": "code",
   "execution_count": 28,
   "metadata": {},
   "outputs": [],
   "source": [
    "# initialize the vectorizer\n",
    "vectorizer = CountVectorizer(binary=True)\n",
    "# fit_transform applies TF-IDF to clean texts - we save the array of vectors in X\n",
    "X = vectorizer.fit_transform(df['cleaned'])"
   ]
  },
  {
   "cell_type": "code",
   "execution_count": 29,
   "metadata": {},
   "outputs": [
    {
     "data": {
      "text/plain": [
       "array([[0, 0, 0, ..., 0, 0, 0],\n",
       "       [0, 0, 0, ..., 0, 0, 0],\n",
       "       [0, 0, 0, ..., 0, 0, 0],\n",
       "       ...,\n",
       "       [0, 0, 0, ..., 0, 0, 0],\n",
       "       [0, 0, 0, ..., 0, 0, 0],\n",
       "       [0, 0, 0, ..., 0, 0, 0]], dtype=int64)"
      ]
     },
     "execution_count": 29,
     "metadata": {},
     "output_type": "execute_result"
    }
   ],
   "source": [
    "X.toarray()"
   ]
  },
  {
   "cell_type": "markdown",
   "metadata": {},
   "source": [
    "### Euclidian"
   ]
  },
  {
   "cell_type": "code",
   "execution_count": 30,
   "metadata": {},
   "outputs": [
    {
     "name": "stderr",
     "output_type": "stream",
     "text": [
      "c:\\Users\\BAGAS\\AppData\\Local\\Programs\\Python\\Python311\\Lib\\site-packages\\sklearn\\cluster\\_kmeans.py:1416: FutureWarning: The default value of `n_init` will change from 10 to 'auto' in 1.4. Set the value of `n_init` explicitly to suppress the warning\n",
      "  super()._check_params_vs_input(X, default_n_init=10)\n"
     ]
    },
    {
     "name": "stdout",
     "output_type": "stream",
     "text": [
      "[2 2 2 ... 2 2 2]\n"
     ]
    }
   ],
   "source": [
    "# initialize kmeans with 3 centroids\n",
    "kmeans = KMeans(n_clusters=3, random_state=42)\n",
    "# fit the model\n",
    "kmeans.fit(X)\n",
    "# store cluster labels in a variable\n",
    "clusters = kmeans.labels_\n",
    "print(clusters)"
   ]
  },
  {
   "cell_type": "code",
   "execution_count": 31,
   "metadata": {},
   "outputs": [],
   "source": [
    "# initialize PCA with 2 components\n",
    "pca = PCA(n_components=2, random_state=42)\n",
    "# pass our X to the pca and store the reduced vectors into pca_vecs\n",
    "pca_vecs = pca.fit_transform(X.toarray())\n",
    "# save our two dimensions into x0 and x1\n",
    "x0 = pca_vecs[:, 0]\n",
    "x1 = pca_vecs[:, 1]"
   ]
  },
  {
   "cell_type": "code",
   "execution_count": 32,
   "metadata": {},
   "outputs": [
    {
     "name": "stdout",
     "output_type": "stream",
     "text": [
      "                                                 corpus  \\\n",
      "0     \\nThey tried their best not to show it, believ...   \n",
      "1     \\nStankiewicz?  I doubt it.\\n\\nKoufax was one ...   \n",
      "2     \\n[deletia- and so on]\\n\\nI seem to have been ...   \n",
      "3     Excuse the sheer newbieness of this post, but ...   \n",
      "4     ==============================================...   \n",
      "...                                                 ...   \n",
      "3446  \\n  Or, with no dictionary available, they cou...   \n",
      "3447  \\n\\nSorry to disappoint you but the Red Wings ...   \n",
      "3448  \\n: Can anyone tell me where to find a MPEG vi...   \n",
      "3449                                                 \\n   \n",
      "3450  \\nHey Valentine, I don't see Boston with any w...   \n",
      "\n",
      "                                                cleaned  cluster        x0  \\\n",
      "0     tried best show believe surprised find sprint ...        2 -0.881954   \n",
      "1     stankiewicz doubt koufax one two jewish hofs h...        2 -0.319891   \n",
      "2     deletia seem rather unclear asking please show...        2  0.839831   \n",
      "3     excuse sheer newbieness post looking decent pa...        2 -0.561497   \n",
      "4                                                              2 -1.209696   \n",
      "...                                                 ...      ...       ...   \n",
      "3446  dictionary available could gain first hand kno...        2 -0.694561   \n",
      "3447  sorry disappoint red wings earned victory easi...        2 -0.378871   \n",
      "3448  anyone tell find mpeg viewer either dos window...        2 -0.702298   \n",
      "3449                                                           2 -1.209696   \n",
      "3450  hey valentine see boston world series rings fi...        2 -0.151783   \n",
      "\n",
      "            x1  \n",
      "0    -0.070229  \n",
      "1    -0.071680  \n",
      "2    -0.261949  \n",
      "3    -0.047027  \n",
      "4    -0.042595  \n",
      "...        ...  \n",
      "3446 -0.081782  \n",
      "3447 -0.008636  \n",
      "3448  0.007926  \n",
      "3449 -0.042595  \n",
      "3450 -0.101784  \n",
      "\n",
      "[3451 rows x 5 columns]\n"
     ]
    }
   ],
   "source": [
    "# assign clusters and pca vectors to our dataframe \n",
    "df['cluster'] = clusters\n",
    "df['x0'] = x0\n",
    "df['x1'] = x1\n",
    "print(df)"
   ]
  },
  {
   "cell_type": "code",
   "execution_count": 33,
   "metadata": {},
   "outputs": [
    {
     "name": "stdout",
     "output_type": "stream",
     "text": [
      "DBI Score:  3.699269502542991 \n",
      "Silhoutte Score:  0.38649299254137337\n"
     ]
    }
   ],
   "source": [
    "# Compute DBI score\n",
    "dbi = metrics.davies_bouldin_score(X.toarray(), clusters)\n",
    "\n",
    "# Compute Silhoutte Score\n",
    "ss = metrics.silhouette_score(X.toarray(), clusters , metric='euclidean')\n",
    "\n",
    "# Print the DBI and Silhoutte Scores\n",
    "print(\"DBI Score: \", dbi, \"\\nSilhoutte Score: \", ss)"
   ]
  },
  {
   "cell_type": "code",
   "execution_count": 34,
   "metadata": {},
   "outputs": [
    {
     "name": "stdout",
     "output_type": "stream",
     "text": [
      "\n",
      "Cluster 0\n",
      "directory,satellite,disk,san,display,distributed,distribution,runs,dimensional,review\n",
      "\n",
      "Cluster 1\n",
      "also,say,even,know,people,think,time,like,would,one\n",
      "\n",
      "Cluster 2\n",
      "good,could,also,anyone,get,think,know,like,one,would\n"
     ]
    }
   ],
   "source": [
    "def get_top_keywords(n_terms):\n",
    "    df = pd.DataFrame(X.todense()).groupby(clusters).mean() # groups the TF-IDF vector by cluster\n",
    "    terms = vectorizer.get_feature_names_out() # access tf-idf terms\n",
    "    for i,r in df.iterrows():\n",
    "        print('\\nCluster {}'.format(i))\n",
    "        # for each row of the dataframe, find the n terms that have the highest tf idf score\n",
    "        print(','.join([terms[t] for t in np.argsort(r)[-n_terms:]])) \n",
    "            \n",
    "get_top_keywords(10)"
   ]
  },
  {
   "cell_type": "code",
   "execution_count": 35,
   "metadata": {},
   "outputs": [],
   "source": [
    "# map clusters to appropriate labels \n",
    "cluster_map = {0: \"technology\", 1: \"Religion\", 2: \"Sports\"}\n",
    "# apply mapping\n",
    "df['cluster'] = df['cluster'].map(cluster_map)"
   ]
  },
  {
   "cell_type": "code",
   "execution_count": 36,
   "metadata": {},
   "outputs": [
    {
     "data": {
      "image/png": "[encoded data removed]",
      "text/plain": [
       "<Figure size 1200x700 with 1 Axes>"
      ]
     },
     "metadata": {},
     "output_type": "display_data"
    }
   ],
   "source": [
    "# set image size\n",
    "plt.figure(figsize=(12, 7))\n",
    "# set a title\n",
    "plt.title(\"BOW + KMeans 20newsgroup clustering\", fontdict={\"fontsize\": 18})\n",
    "# set axes names\n",
    "plt.xlabel(\"X0\", fontdict={\"fontsize\": 16})\n",
    "plt.ylabel(\"X1\", fontdict={\"fontsize\": 16})\n",
    "# create scatter plot with seaborn, where hue is the class used to group the data\n",
    "sns.scatterplot(data=df, x='x0', y='x1', hue='cluster', palette=\"Set1\")\n",
    "plt.show()"
   ]
  },
  {
   "cell_type": "markdown",
   "metadata": {},
   "source": [
    "### Cosine"
   ]
  },
  {
   "cell_type": "code",
   "execution_count": null,
   "metadata": {},
   "outputs": [],
   "source": []
  },
  {
   "cell_type": "markdown",
   "metadata": {},
   "source": [
    "# B. TF/IDF"
   ]
  },
  {
   "cell_type": "code",
   "execution_count": null,
   "metadata": {},
   "outputs": [],
   "source": []
  },
  {
   "cell_type": "markdown",
   "metadata": {},
   "source": [
    "# C. Count Vectorizer"
   ]
  },
  {
   "cell_type": "code",
   "execution_count": null,
   "metadata": {},
   "outputs": [],
   "source": []
  },
  {
   "cell_type": "markdown",
   "metadata": {},
   "source": [
    "# D. Jaccard Index"
   ]
  },
  {
   "cell_type": "code",
   "execution_count": 6,
   "metadata": {},
   "outputs": [
    {
     "name": "stdout",
     "output_type": "stream",
     "text": [
      "======================== Jaccard Similarity Scores : ========================\n",
      "|.| Jaccard Similarity between 'comp.graphics' and 'comp.os.ms-windows.misc': 0.04045652545697816\n",
      "|.| Jaccard Similarity between 'comp.graphics' and 'rec.sport.baseball': 0.051426588626572914\n",
      "|.| Jaccard Similarity between 'comp.graphics' and 'soc.religion.christian': 0.0594587549239206\n",
      "|.| Jaccard Similarity between 'rec.sport.hockey' and 'comp.os.ms-windows.misc': 0.051426588626572914\n",
      "|.| Jaccard Similarity between 'rec.sport.hockey' and 'rec.sport.baseball': 0.05591025525506198\n",
      "|.| Jaccard Similarity between 'rec.sport.hockey' and 'soc.religion.christian': 0.06380085765087334\n",
      "|.| Jaccard Similarity between 'alt.atheism' and 'comp.os.ms-windows.misc': 0.0594587549239206\n",
      "|.| Jaccard Similarity between 'alt.atheism' and 'rec.sport.baseball': 0.06380085765087334\n",
      "|.| Jaccard Similarity between 'alt.atheism' and 'soc.religion.christian': 0.07828167060455385\n",
      "\n",
      "<.> Average Jaccard Similarity: 0.05822453930214752\n"
     ]
    }
   ],
   "source": [
    "from sklearn.datasets import fetch_20newsgroups\n",
    "from sklearn.feature_extraction.text import TfidfVectorizer\n",
    "from sklearn.metrics import jaccard_score\n",
    "import numpy as np\n",
    "\n",
    "# Daftar pasangan topik yang diinginkan\n",
    "topic_pairs = [('comp.graphics', 'comp.os.ms-windows.misc'),\n",
    "               ('rec.sport.hockey', 'rec.sport.baseball'),\n",
    "               ('alt.atheism', 'soc.religion.christian')]\n",
    "\n",
    "# Muat dataset 20 Newsgroups\n",
    "newsgroups = fetch_20newsgroups(subset='all', remove=('headers', 'footers', 'quotes'), categories=[pair[0] for pair in topic_pairs] + [pair[1] for pair in topic_pairs])\n",
    "\n",
    "# Inisialisasi TF-IDF Vectorizer\n",
    "vectorizer = TfidfVectorizer()\n",
    "\n",
    "# Ubah dokumen menjadi vektor fitur\n",
    "X = vectorizer.fit_transform(newsgroups.data)\n",
    "\n",
    "# Inisialisasi matriks untuk menyimpan skor Jaccard\n",
    "jaccard_scores = np.zeros((len(topic_pairs), len(topic_pairs)))\n",
    "\n",
    "# Hitung skor Jaccard antara setiap pasangan topik\n",
    "for i in range(len(topic_pairs)):\n",
    "    for j in range(i, len(topic_pairs)):\n",
    "        topic1_index = newsgroups.target_names.index(topic_pairs[i][0])\n",
    "        topic2_index = newsgroups.target_names.index(topic_pairs[j][1])\n",
    "        \n",
    "        topic1_documents = X[newsgroups.target == topic1_index]\n",
    "        topic2_documents = X[newsgroups.target == topic2_index]\n",
    "        \n",
    "        min_num_documents = min(topic1_documents.shape[0], topic2_documents.shape[0])\n",
    "        \n",
    "        topic1_bin = (topic1_documents > 0).astype(int)[:min_num_documents]\n",
    "        topic2_bin = (topic2_documents > 0).astype(int)[:min_num_documents]\n",
    "        \n",
    "        jaccard = jaccard_score(topic1_bin, topic2_bin, average='micro')\n",
    "        \n",
    "        jaccard_scores[i, j] = jaccard\n",
    "        jaccard_scores[j, i] = jaccard\n",
    "\n",
    "# Cetak matriks skor Jaccard\n",
    "print(\"======================== Jaccard Similarity Scores : ========================\")\n",
    "for i in range(len(topic_pairs)):\n",
    "    for j in range(len(topic_pairs)):\n",
    "        topic1 = topic_pairs[i][0]\n",
    "        topic2 = topic_pairs[j][1]\n",
    "        similarity_score = jaccard_scores[i, j]\n",
    "        print(f\"|.| Jaccard Similarity between '{topic1}' and '{topic2}': {similarity_score}\")\n",
    "\n",
    "# Cetak rata-rata skor Jaccard\n",
    "average_similarity = np.mean(jaccard_scores)\n",
    "print(f\"\\n<.> Average Jaccard Similarity: {average_similarity}\")"
   ]
  }
 ],
 "metadata": {
  "kernelspec": {
   "display_name": "Python 3 (ipykernel)",
   "language": "python",
   "name": "python3"
  },
  "language_info": {
   "codemirror_mode": {
    "name": "ipython",
    "version": 3
   },
   "file_extension": ".py",
   "mimetype": "text/x-python",
   "name": "python",
   "nbconvert_exporter": "python",
   "pygments_lexer": "ipython3",
   "version": "3.11.5"
  }
 },
 "nbformat": 4,
 "nbformat_minor": 4
}
