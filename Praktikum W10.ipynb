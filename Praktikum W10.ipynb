{
 "cells": [
  {
   "cell_type": "markdown",
   "metadata": {},
   "source": [
    "# Assignment For This Week\n",
    "Develop program menggunakan algoritma k-means clustring untuk data 20newsgroups 3 kelas: Sport, Religion dan Technology. Sumber materi dapat diakses di https://tita.lecturer.pens.ac.id/TextMining_SDT/M10.%20Text%20Clustering/Text%20Clustering%20with%20TF-IDF%20in%20Python.pdf\n",
    "\n",
    "Dengan ketentuan:\n",
    "\n",
    "#### A. Data dalam bentuk Bag of Words\n",
    "1. menggunakan rumus jarak Euclidean Distance\n",
    "2. menggunakan rumus jarak Cosine Similarity\n",
    "\n",
    "### B. Data dalam bentuk TF/IDF\n",
    "1. menggunakan rumus jarak Euclidean Distance\n",
    "2. menggunakan rumus jarak Cosine Similarity\n",
    "\n",
    "### C. Data dalam bentuk Count Vectorizer\n",
    "1. menggunakan rumus jarak Euclidean Distance\n",
    "2. menggunakan rumus jarak Cosine Similarity\n",
    "\n",
    "#### D. Data dalam bentuk Vocabulary menggunakan rumus jarak Jaccard Index\n",
    "\n",
    "Buat analisa hasil klaster menggunakan metric performance DBI dan Silhoute score. \n",
    "Sajikan dalma bentuk presentasi. Unggah file ppt nya."
   ]
  }
 ],
 "metadata": {
  "language_info": {
   "name": "python"
  }
 },
 "nbformat": 4,
 "nbformat_minor": 2
}
