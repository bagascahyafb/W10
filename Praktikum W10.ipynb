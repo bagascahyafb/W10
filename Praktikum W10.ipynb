{
 "cells": [
  {
   "cell_type": "markdown",
   "metadata": {},
   "source": [
    "# Assignment For This Week\n",
    "Develop program menggunakan algoritma k-means clustring untuk data 20newsgroups 3 kelas: Sport, Religion dan Technology. Sumber materi dapat diakses di https://tita.lecturer.pens.ac.id/TextMining_SDT/M10.%20Text%20Clustering/Text%20Clustering%20with%20TF-IDF%20in%20Python.pdf\n",
    "\n",
    "Dengan ketentuan:\n",
    "\n",
    "#### A. Data dalam bentuk Bag of Words\n",
    "1. menggunakan rumus jarak Euclidean Distance\n",
    "2. menggunakan rumus jarak Cosine Similarity\n",
    "\n",
    "### B. Data dalam bentuk TF/IDF\n",
    "1. menggunakan rumus jarak Euclidean Distance\n",
    "2. menggunakan rumus jarak Cosine Similarity\n",
    "\n",
    "### C. Data dalam bentuk Count Vectorizer\n",
    "1. menggunakan rumus jarak Euclidean Distance\n",
    "2. menggunakan rumus jarak Cosine Similarity\n",
    "\n",
    "#### D. Data dalam bentuk Vocabulary menggunakan rumus jarak Jaccard Index\n",
    "\n",
    "Buat analisa hasil klaster menggunakan metric performance DBI dan Silhoute score. \n",
    "Sajikan dalma bentuk presentasi. Unggah file ppt nya."
   ]
  },
  {
   "cell_type": "markdown",
   "metadata": {},
   "source": [
    "# Library"
   ]
  },
  {
   "cell_type": "code",
   "execution_count": 1,
   "metadata": {},
   "outputs": [],
   "source": [
    "# import the dataset from sklearn\n",
    "from sklearn.datasets import fetch_20newsgroups\n",
    "from sklearn.feature_extraction.text import TfidfVectorizer\n",
    "from sklearn.cluster import KMeans\n",
    "from sklearn.decomposition import PCA\n",
    "\n",
    "# import other required libs\n",
    "import pandas as pd\n",
    "import numpy as np\n",
    "\n",
    "# string manipulation libs\n",
    "import re\n",
    "import string\n",
    "import nltk\n",
    "from nltk.corpus import stopwords\n",
    "\n",
    "# viz libs\n",
    "import matplotlib.pyplot as plt\n",
    "import seaborn as sns"
   ]
  },
  {
   "cell_type": "markdown",
   "metadata": {},
   "source": [
    "# Dataset"
   ]
  },
  {
   "cell_type": "code",
   "execution_count": 2,
   "metadata": {},
   "outputs": [
    {
     "name": "stdout",
     "output_type": "stream",
     "text": [
      "alt.atheism\n",
      "comp.graphics\n",
      "comp.os.ms-windows.misc\n",
      "comp.sys.ibm.pc.hardware\n",
      "comp.sys.mac.hardware\n",
      "comp.windows.x\n",
      "misc.forsale\n",
      "rec.autos\n",
      "rec.motorcycles\n",
      "rec.sport.baseball\n",
      "rec.sport.hockey\n",
      "sci.crypt\n",
      "sci.electronics\n",
      "sci.med\n",
      "sci.space\n",
      "soc.religion.christian\n",
      "talk.politics.guns\n",
      "talk.politics.mideast\n",
      "talk.politics.misc\n",
      "talk.religion.misc\n"
     ]
    }
   ],
   "source": [
    "for i in fetch_20newsgroups().target_names:\n",
    "    print(i)"
   ]
  },
  {
   "cell_type": "code",
   "execution_count": 3,
   "metadata": {},
   "outputs": [
    {
     "data": {
      "text/html": [
       "<div>\n",
       "<style scoped>\n",
       "    .dataframe tbody tr th:only-of-type {\n",
       "        vertical-align: middle;\n",
       "    }\n",
       "\n",
       "    .dataframe tbody tr th {\n",
       "        vertical-align: top;\n",
       "    }\n",
       "\n",
       "    .dataframe thead th {\n",
       "        text-align: right;\n",
       "    }\n",
       "</style>\n",
       "<table border=\"1\" class=\"dataframe\">\n",
       "  <thead>\n",
       "    <tr style=\"text-align: right;\">\n",
       "      <th></th>\n",
       "      <th>corpus</th>\n",
       "    </tr>\n",
       "  </thead>\n",
       "  <tbody>\n",
       "    <tr>\n",
       "      <th>0</th>\n",
       "      <td>\\n\\n</td>\n",
       "    </tr>\n",
       "    <tr>\n",
       "      <th>1</th>\n",
       "      <td>Don A.B. Lindbergh meinte am 15.04.93\\nzum The...</td>\n",
       "    </tr>\n",
       "    <tr>\n",
       "      <th>2</th>\n",
       "      <td>\\nThere is just something disconcerting about ...</td>\n",
       "    </tr>\n",
       "    <tr>\n",
       "      <th>3</th>\n",
       "      <td>\\nOK...\\n\\n5) How about a fuel gauge that *rea...</td>\n",
       "    </tr>\n",
       "    <tr>\n",
       "      <th>4</th>\n",
       "      <td>: Sorry, I did`nt tell exactly what I need.\\n:...</td>\n",
       "    </tr>\n",
       "    <tr>\n",
       "      <th>...</th>\n",
       "      <td>...</td>\n",
       "    </tr>\n",
       "    <tr>\n",
       "      <th>3435</th>\n",
       "      <td>Has anyone use Snooper or MacEKG or any other ...</td>\n",
       "    </tr>\n",
       "    <tr>\n",
       "      <th>3436</th>\n",
       "      <td>\\n\\tPerhaps we ought not to have supported a k...</td>\n",
       "    </tr>\n",
       "    <tr>\n",
       "      <th>3437</th>\n",
       "      <td>\\n\\nThe argument for Luke's genealogy being th...</td>\n",
       "    </tr>\n",
       "    <tr>\n",
       "      <th>3438</th>\n",
       "      <td>\\nI hope this will clear it up :\\n\\n(Taken fro...</td>\n",
       "    </tr>\n",
       "    <tr>\n",
       "      <th>3439</th>\n",
       "      <td>Could some kind soul tell me the advance timin...</td>\n",
       "    </tr>\n",
       "  </tbody>\n",
       "</table>\n",
       "<p>3440 rows × 1 columns</p>\n",
       "</div>"
      ],
      "text/plain": [
       "                                                 corpus\n",
       "0                                                  \\n\\n\n",
       "1     Don A.B. Lindbergh meinte am 15.04.93\\nzum The...\n",
       "2     \\nThere is just something disconcerting about ...\n",
       "3     \\nOK...\\n\\n5) How about a fuel gauge that *rea...\n",
       "4     : Sorry, I did`nt tell exactly what I need.\\n:...\n",
       "...                                                 ...\n",
       "3435  Has anyone use Snooper or MacEKG or any other ...\n",
       "3436  \\n\\tPerhaps we ought not to have supported a k...\n",
       "3437  \\n\\nThe argument for Luke's genealogy being th...\n",
       "3438  \\nI hope this will clear it up :\\n\\n(Taken fro...\n",
       "3439  Could some kind soul tell me the advance timin...\n",
       "\n",
       "[3440 rows x 1 columns]"
      ]
     },
     "execution_count": 3,
     "metadata": {},
     "output_type": "execute_result"
    }
   ],
   "source": [
    "categories = [\n",
    " 'comp.sys.mac.hardware',\n",
    " 'comp.os.ms-windows.misc',\n",
    " 'rec.autos',\n",
    " 'rec.motorcycles',\n",
    " 'alt.atheism',\n",
    " 'soc.religion.christian'\n",
    "]\n",
    "dataset = fetch_20newsgroups(subset='train', categories=categories, shuffle=True, remove=('headers', 'footers', 'quotes'))\n",
    "df = pd.DataFrame(dataset.data, columns=[\"corpus\"])\n",
    "df"
   ]
  },
  {
   "cell_type": "code",
   "execution_count": 5,
   "metadata": {},
   "outputs": [],
   "source": [
    "def preprocess_text(text: str, remove_stopwords: bool) -> str:\n",
    "    # remove links\n",
    "    text = re.sub(r\"http\\S+\", \"\", text)\n",
    "    # remove special chars and numbers\n",
    "    text = re.sub(\"[^A-Za-z]+\", \" \", text)\n",
    "    # remove stopwords\n",
    "    if remove_stopwords:\n",
    "        # 1. tokenize\n",
    "        tokens = nltk.word_tokenize(text)\n",
    "        # 2. check if stopword\n",
    "        tokens = [w for w in tokens if not w.lower() in stopwords.words(\"english\")]\n",
    "        # 3. join back together\n",
    "        text = \" \".join(tokens)\n",
    "    # return text in lower case and stripped of whitespaces\n",
    "    text = text.lower().strip()\n",
    "    return text"
   ]
  },
  {
   "cell_type": "code",
   "execution_count": 6,
   "metadata": {},
   "outputs": [
    {
     "data": {
      "text/html": [
       "<div>\n",
       "<style scoped>\n",
       "    .dataframe tbody tr th:only-of-type {\n",
       "        vertical-align: middle;\n",
       "    }\n",
       "\n",
       "    .dataframe tbody tr th {\n",
       "        vertical-align: top;\n",
       "    }\n",
       "\n",
       "    .dataframe thead th {\n",
       "        text-align: right;\n",
       "    }\n",
       "</style>\n",
       "<table border=\"1\" class=\"dataframe\">\n",
       "  <thead>\n",
       "    <tr style=\"text-align: right;\">\n",
       "      <th></th>\n",
       "      <th>corpus</th>\n",
       "      <th>cleaned</th>\n",
       "    </tr>\n",
       "  </thead>\n",
       "  <tbody>\n",
       "    <tr>\n",
       "      <th>3435</th>\n",
       "      <td>Has anyone use Snooper or MacEKG or any other ...</td>\n",
       "      <td>anyone use snooper macekg similar diagnostic s...</td>\n",
       "    </tr>\n",
       "    <tr>\n",
       "      <th>3436</th>\n",
       "      <td>\\n\\tPerhaps we ought not to have supported a k...</td>\n",
       "      <td>perhaps ought supported known genocidist provi...</td>\n",
       "    </tr>\n",
       "    <tr>\n",
       "      <th>3437</th>\n",
       "      <td>\\n\\nThe argument for Luke's genealogy being th...</td>\n",
       "      <td>argument luke genealogy mary weak according lu...</td>\n",
       "    </tr>\n",
       "    <tr>\n",
       "      <th>3438</th>\n",
       "      <td>\\nI hope this will clear it up :\\n\\n(Taken fro...</td>\n",
       "      <td>hope clear taken one lecture notes alternative...</td>\n",
       "    </tr>\n",
       "    <tr>\n",
       "      <th>3439</th>\n",
       "      <td>Could some kind soul tell me the advance timin...</td>\n",
       "      <td>could kind soul tell advance timing revs xs sp...</td>\n",
       "    </tr>\n",
       "  </tbody>\n",
       "</table>\n",
       "</div>"
      ],
      "text/plain": [
       "                                                 corpus  \\\n",
       "3435  Has anyone use Snooper or MacEKG or any other ...   \n",
       "3436  \\n\\tPerhaps we ought not to have supported a k...   \n",
       "3437  \\n\\nThe argument for Luke's genealogy being th...   \n",
       "3438  \\nI hope this will clear it up :\\n\\n(Taken fro...   \n",
       "3439  Could some kind soul tell me the advance timin...   \n",
       "\n",
       "                                                cleaned  \n",
       "3435  anyone use snooper macekg similar diagnostic s...  \n",
       "3436  perhaps ought supported known genocidist provi...  \n",
       "3437  argument luke genealogy mary weak according lu...  \n",
       "3438  hope clear taken one lecture notes alternative...  \n",
       "3439  could kind soul tell advance timing revs xs sp...  "
      ]
     },
     "execution_count": 6,
     "metadata": {},
     "output_type": "execute_result"
    }
   ],
   "source": [
    "df['cleaned'] = df['corpus'].apply(lambda x: preprocess_text(x, remove_stopwords=True))\n",
    "df.tail(5)"
   ]
  },
  {
   "cell_type": "markdown",
   "metadata": {},
   "source": [
    "# A. Bag Of Words"
   ]
  },
  {
   "cell_type": "code",
   "execution_count": null,
   "metadata": {},
   "outputs": [],
   "source": []
  },
  {
   "cell_type": "markdown",
   "metadata": {},
   "source": [
    "# B. TF/IDF"
   ]
  },
  {
   "cell_type": "code",
   "execution_count": null,
   "metadata": {},
   "outputs": [],
   "source": []
  },
  {
   "cell_type": "markdown",
   "metadata": {},
   "source": [
    "# C. Count Vectorizer"
   ]
  },
  {
   "cell_type": "code",
   "execution_count": null,
   "metadata": {},
   "outputs": [],
   "source": []
  },
  {
   "cell_type": "markdown",
   "metadata": {},
   "source": [
    "# D. Jaccard Index"
   ]
  },
  {
   "cell_type": "code",
   "execution_count": null,
   "metadata": {},
   "outputs": [],
   "source": []
  }
 ],
 "metadata": {
  "kernelspec": {
   "display_name": "Python 3",
   "language": "python",
   "name": "python3"
  },
  "language_info": {
   "codemirror_mode": {
    "name": "ipython",
    "version": 3
   },
   "file_extension": ".py",
   "mimetype": "text/x-python",
   "name": "python",
   "nbconvert_exporter": "python",
   "pygments_lexer": "ipython3",
   "version": "3.11.0"
  }
 },
 "nbformat": 4,
 "nbformat_minor": 2
}
